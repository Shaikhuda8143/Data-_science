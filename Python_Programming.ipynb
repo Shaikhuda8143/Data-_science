{
 "cells": [
  {
   "cell_type": "markdown",
   "id": "125bea90",
   "metadata": {
    "id": "125bea90"
   },
   "source": [
    "# Chapter 1 - First Python Programming"
   ]
  },
  {
   "cell_type": "markdown",
   "id": "5bca766c",
   "metadata": {
    "id": "5bca766c"
   },
   "source": [
    "## 1[a] Hello World"
   ]
  },
  {
   "cell_type": "code",
   "execution_count": null,
   "id": "c066feee",
   "metadata": {
    "id": "c066feee",
    "outputId": "6a3c00b0-063a-43ca-a8b6-65951510f059"
   },
   "outputs": [
    {
     "name": "stdout",
     "output_type": "stream",
     "text": [
      "Welcome to Data Science Session.\n"
     ]
    }
   ],
   "source": [
    "print('Welcome to Data Science Session.')"
   ]
  },
  {
   "cell_type": "code",
   "execution_count": null,
   "id": "79febff6",
   "metadata": {
    "id": "79febff6",
    "outputId": "9e2b410c-48a8-4f4e-b987-8f86676db5e1"
   },
   "outputs": [
    {
     "name": "stdout",
     "output_type": "stream",
     "text": [
      "Anil said, John's session is bit boring.\n"
     ]
    }
   ],
   "source": [
    "print(\"Anil said, John's session is bit boring.\")"
   ]
  },
  {
   "cell_type": "code",
   "execution_count": null,
   "id": "1225101a",
   "metadata": {
    "id": "1225101a",
    "outputId": "ac92c30b-fd27-48fe-b644-efc0a2589299"
   },
   "outputs": [
    {
     "name": "stdout",
     "output_type": "stream",
     "text": [
      "Anil replied, \"John's session is bit boring\".\n"
     ]
    }
   ],
   "source": [
    "print(\"\"\"Anil replied, \"John's session is bit boring\".\"\"\")"
   ]
  },
  {
   "cell_type": "code",
   "execution_count": null,
   "id": "0c9a163a",
   "metadata": {
    "id": "0c9a163a",
    "outputId": "fd8ae90d-7e49-4aa9-8940-2dbbbaf95e87"
   },
   "outputs": [
    {
     "name": "stdout",
     "output_type": "stream",
     "text": [
      "224\n"
     ]
    }
   ],
   "source": [
    "print(67+67+90)"
   ]
  },
  {
   "cell_type": "markdown",
   "id": "2a2dc287",
   "metadata": {
    "id": "2a2dc287"
   },
   "source": [
    "## 1[b] Create  a Variable"
   ]
  },
  {
   "cell_type": "code",
   "execution_count": null,
   "id": "99136cb2",
   "metadata": {
    "id": "99136cb2"
   },
   "outputs": [],
   "source": [
    "participants = 'Aditya','Akash','Divya','Vennela','Aparna'"
   ]
  },
  {
   "cell_type": "code",
   "execution_count": null,
   "id": "86ff7e6d",
   "metadata": {
    "id": "86ff7e6d",
    "outputId": "8518ee2a-a204-475d-c211-ba9da3202ed7"
   },
   "outputs": [
    {
     "data": {
      "text/plain": [
       "('Aditya', 'Akash', 'Divya', 'Vennela', 'Aparna')"
      ]
     },
     "execution_count": 16,
     "metadata": {},
     "output_type": "execute_result"
    }
   ],
   "source": [
    "participants"
   ]
  },
  {
   "cell_type": "code",
   "execution_count": null,
   "id": "0b7c56f8",
   "metadata": {
    "id": "0b7c56f8",
    "outputId": "5db9033d-1faf-4e43-96d8-fe178b543cf5"
   },
   "outputs": [
    {
     "data": {
      "text/plain": [
       "5"
      ]
     },
     "execution_count": 17,
     "metadata": {},
     "output_type": "execute_result"
    }
   ],
   "source": [
    "len(participants)"
   ]
  },
  {
   "cell_type": "code",
   "execution_count": null,
   "id": "17e2df80",
   "metadata": {
    "id": "17e2df80",
    "outputId": "a719e4b0-b1ec-4975-8ccd-af6f86ab2db7"
   },
   "outputs": [
    {
     "data": {
      "text/plain": [
       "'Vennela'"
      ]
     },
     "execution_count": 19,
     "metadata": {},
     "output_type": "execute_result"
    }
   ],
   "source": [
    "participants[3]"
   ]
  },
  {
   "cell_type": "code",
   "execution_count": null,
   "id": "7043de3b",
   "metadata": {
    "id": "7043de3b",
    "outputId": "8ff7a829-aa2a-466e-8d6a-0bebe3043d8d"
   },
   "outputs": [
    {
     "data": {
      "text/plain": [
       "('Akash', 'Divya', 'Vennela')"
      ]
     },
     "execution_count": 28,
     "metadata": {},
     "output_type": "execute_result"
    }
   ],
   "source": [
    "participants[1:4]"
   ]
  },
  {
   "cell_type": "markdown",
   "id": "c1e4db57",
   "metadata": {
    "id": "c1e4db57"
   },
   "source": [
    "# Chapter 2 - Strings and String Methods"
   ]
  },
  {
   "cell_type": "markdown",
   "id": "50726c16",
   "metadata": {
    "id": "50726c16"
   },
   "source": [
    "**3 Datatypes in Python:**\n",
    "1. Int - Integer - only whole numbers\n",
    "2. Float - with decimal points\n",
    "3. String - anything which is enclosed within quotes"
   ]
  },
  {
   "cell_type": "markdown",
   "id": "5526c466",
   "metadata": {
    "id": "5526c466"
   },
   "source": [
    "## 2[a] What is a String?"
   ]
  },
  {
   "cell_type": "code",
   "execution_count": null,
   "id": "af1cf482",
   "metadata": {
    "id": "af1cf482"
   },
   "outputs": [],
   "source": [
    "abhishek_score = 100"
   ]
  },
  {
   "cell_type": "code",
   "execution_count": null,
   "id": "52d7cd3e",
   "metadata": {
    "id": "52d7cd3e",
    "outputId": "a1d93d9d-b6fb-4c85-dc49-de00761f4b8d"
   },
   "outputs": [
    {
     "data": {
      "text/plain": [
       "int"
      ]
     },
     "execution_count": 33,
     "metadata": {},
     "output_type": "execute_result"
    }
   ],
   "source": [
    "type(abhishek_score)"
   ]
  },
  {
   "cell_type": "code",
   "execution_count": null,
   "id": "b0f5ac3a",
   "metadata": {
    "id": "b0f5ac3a"
   },
   "outputs": [],
   "source": [
    "sathwick_average_marks = '8.5'"
   ]
  },
  {
   "cell_type": "code",
   "execution_count": null,
   "id": "bc109fd6",
   "metadata": {
    "id": "bc109fd6",
    "outputId": "a4277e84-87cc-4db1-d4fa-f9d278c2f2f6"
   },
   "outputs": [
    {
     "data": {
      "text/plain": [
       "str"
      ]
     },
     "execution_count": 35,
     "metadata": {},
     "output_type": "execute_result"
    }
   ],
   "source": [
    "type(sathwick_average_marks)"
   ]
  },
  {
   "cell_type": "code",
   "execution_count": null,
   "id": "a25635a1",
   "metadata": {
    "id": "a25635a1"
   },
   "outputs": [],
   "source": [
    "sathwick_average_marks = 8.5"
   ]
  },
  {
   "cell_type": "code",
   "execution_count": null,
   "id": "885d7e42",
   "metadata": {
    "id": "885d7e42",
    "outputId": "cdb62b87-6135-4443-a093-17943c9f545e"
   },
   "outputs": [
    {
     "data": {
      "text/plain": [
       "float"
      ]
     },
     "execution_count": 37,
     "metadata": {},
     "output_type": "execute_result"
    }
   ],
   "source": [
    "type(sathwick_average_marks)"
   ]
  },
  {
   "cell_type": "markdown",
   "id": "ee51b499",
   "metadata": {
    "id": "ee51b499"
   },
   "source": [
    "## 2[b] Concatenation - Indexing - Slicing"
   ]
  },
  {
   "cell_type": "code",
   "execution_count": null,
   "id": "a0b70b78",
   "metadata": {
    "id": "a0b70b78"
   },
   "outputs": [],
   "source": [
    "fname = 'Dhanaxi'\n",
    "lname = 'Mehtani'\n",
    "age = 26"
   ]
  },
  {
   "cell_type": "code",
   "execution_count": null,
   "id": "c0f8cedd",
   "metadata": {
    "id": "c0f8cedd",
    "outputId": "431fae4c-2cbc-425f-f1e0-813555d46804"
   },
   "outputs": [
    {
     "data": {
      "text/plain": [
       "'Mehtani'"
      ]
     },
     "execution_count": 42,
     "metadata": {},
     "output_type": "execute_result"
    }
   ],
   "source": [
    "fname\n",
    "lname"
   ]
  },
  {
   "cell_type": "code",
   "execution_count": null,
   "id": "8ac8583f",
   "metadata": {
    "id": "8ac8583f",
    "outputId": "b05f8c1f-e822-4d05-c73a-4ea56cda6bd5"
   },
   "outputs": [
    {
     "data": {
      "text/plain": [
       "('Dhanaxi', 'Mehtani')"
      ]
     },
     "execution_count": 43,
     "metadata": {},
     "output_type": "execute_result"
    }
   ],
   "source": [
    "fname,lname"
   ]
  },
  {
   "cell_type": "code",
   "execution_count": null,
   "id": "3ab40792",
   "metadata": {
    "id": "3ab40792",
    "outputId": "274a2d50-fc94-4290-ee99-173462f3557c"
   },
   "outputs": [
    {
     "name": "stdout",
     "output_type": "stream",
     "text": [
      "Dhanaxi\n",
      "Mehtani\n"
     ]
    }
   ],
   "source": [
    "print(fname)\n",
    "print(lname)"
   ]
  },
  {
   "cell_type": "code",
   "execution_count": null,
   "id": "22f34927",
   "metadata": {
    "id": "22f34927",
    "outputId": "4494db71-412d-45bf-b64a-2596cd022798"
   },
   "outputs": [
    {
     "name": "stdout",
     "output_type": "stream",
     "text": [
      "Dhanaxi Mehtani\n"
     ]
    }
   ],
   "source": [
    "print(fname,lname)"
   ]
  },
  {
   "cell_type": "code",
   "execution_count": null,
   "id": "53fcccc7",
   "metadata": {
    "id": "53fcccc7",
    "outputId": "fde75ed2-5594-48ad-bd7b-89e1e60f7965"
   },
   "outputs": [
    {
     "name": "stdout",
     "output_type": "stream",
     "text": [
      "First Name :Dhanaxi Last Name : Mehtani\n"
     ]
    }
   ],
   "source": [
    "print('First Name :' + fname + ' Last Name : ' + lname) # String Concatenation"
   ]
  },
  {
   "cell_type": "code",
   "execution_count": null,
   "id": "22ad876f",
   "metadata": {
    "id": "22ad876f",
    "outputId": "50762817-797a-449b-e5b8-0b366bfecfef"
   },
   "outputs": [
    {
     "name": "stdout",
     "output_type": "stream",
     "text": [
      "First Name :Dhanaxi Last Name : Mehtani Age: 26\n"
     ]
    }
   ],
   "source": [
    "print('First Name :' + fname + ' Last Name : ' + lname + ' Age: ' + str(age)) # Type casting"
   ]
  },
  {
   "cell_type": "code",
   "execution_count": null,
   "id": "a3308d39",
   "metadata": {
    "id": "a3308d39",
    "outputId": "aa705d83-ad75-4edf-df5d-927ceb8bcea0"
   },
   "outputs": [
    {
     "name": "stdout",
     "output_type": "stream",
     "text": [
      "First Name: Dhanaxi \n",
      "Last Name: Mehtani \n",
      "Age: 26\n"
     ]
    }
   ],
   "source": [
    "print('First Name:',fname,'\\nLast Name:',lname,'\\nAge:',age)"
   ]
  },
  {
   "cell_type": "markdown",
   "id": "6f8ac1b3",
   "metadata": {
    "id": "6f8ac1b3"
   },
   "source": [
    "## 2[c] Manipulating String with Methods"
   ]
  },
  {
   "cell_type": "markdown",
   "id": "9e9b4a53",
   "metadata": {
    "id": "9e9b4a53"
   },
   "source": [
    "**Methods or Functions** : Inorder to do some operation on your variable, we go for Methods. And always a method enclosd with **()**"
   ]
  },
  {
   "cell_type": "code",
   "execution_count": null,
   "id": "5305a53c",
   "metadata": {
    "id": "5305a53c"
   },
   "outputs": [],
   "source": [
    "learner_1 = 'Amit'\n",
    "learner_2 = '  lavanya'\n",
    "learner_3 = 'Aarthy           '\n",
    "learner_4 = '       Sasi     '"
   ]
  },
  {
   "cell_type": "code",
   "execution_count": null,
   "id": "2be13b43",
   "metadata": {
    "id": "2be13b43",
    "outputId": "88f283e3-ac05-4253-80c3-b569c7878d73"
   },
   "outputs": [
    {
     "name": "stdout",
     "output_type": "stream",
     "text": [
      "Amit\n",
      "  lavanya\n",
      "Aarthy           \n",
      "       Sasi     \n"
     ]
    }
   ],
   "source": [
    "print(learner_1)\n",
    "print(learner_2)\n",
    "print(learner_3)\n",
    "print(learner_4)"
   ]
  },
  {
   "cell_type": "code",
   "execution_count": null,
   "id": "7d10867b",
   "metadata": {
    "id": "7d10867b",
    "outputId": "f39e5c56-ae09-4582-9e42-2a6c94c9005c"
   },
   "outputs": [
    {
     "data": {
      "text/plain": [
       "(4, 9, 17, 16)"
      ]
     },
     "execution_count": 69,
     "metadata": {},
     "output_type": "execute_result"
    }
   ],
   "source": [
    "len(learner_1),len(learner_2),len(learner_3),len(learner_4)"
   ]
  },
  {
   "cell_type": "code",
   "execution_count": null,
   "id": "5ac8c5d1",
   "metadata": {
    "id": "5ac8c5d1",
    "outputId": "14e4f848-853b-4fdf-b38d-3d290ce97054"
   },
   "outputs": [
    {
     "data": {
      "text/plain": [
       "'AMIT'"
      ]
     },
     "execution_count": 70,
     "metadata": {},
     "output_type": "execute_result"
    }
   ],
   "source": [
    "learner_1.upper() #Return a copy of the string converted to uppercase."
   ]
  },
  {
   "cell_type": "code",
   "execution_count": null,
   "id": "c5e0c6c9",
   "metadata": {
    "id": "c5e0c6c9",
    "outputId": "d450a39b-17ce-457d-fb2a-c1b8b74687b3"
   },
   "outputs": [
    {
     "data": {
      "text/plain": [
       "'Lavanya'"
      ]
     },
     "execution_count": 4,
     "metadata": {},
     "output_type": "execute_result"
    }
   ],
   "source": [
    "learner_2.lstrip().capitalize() #Return a copy of the string with leading whitespace removed."
   ]
  },
  {
   "cell_type": "code",
   "execution_count": null,
   "id": "96358c9f",
   "metadata": {
    "id": "96358c9f",
    "outputId": "c9a6060c-f6a0-4e3b-a2c2-d0f53d22dca9"
   },
   "outputs": [
    {
     "data": {
      "text/plain": [
       "'Aarthy'"
      ]
     },
     "execution_count": 72,
     "metadata": {},
     "output_type": "execute_result"
    }
   ],
   "source": [
    "learner_3.rstrip() #Return a copy of the string with trailing whitespace removed."
   ]
  },
  {
   "cell_type": "code",
   "execution_count": null,
   "id": "1dabd9d0",
   "metadata": {
    "id": "1dabd9d0",
    "outputId": "04a35aeb-30ac-420f-f4f7-4e5a75f26bea"
   },
   "outputs": [
    {
     "data": {
      "text/plain": [
       "'Sasi'"
      ]
     },
     "execution_count": 73,
     "metadata": {},
     "output_type": "execute_result"
    }
   ],
   "source": [
    "learner_4.strip() #Return a copy of the string with leading and trailing whitespace removed."
   ]
  },
  {
   "cell_type": "markdown",
   "id": "8cc3d6bd",
   "metadata": {
    "id": "8cc3d6bd"
   },
   "source": [
    "## ===================================================================="
   ]
  },
  {
   "cell_type": "markdown",
   "id": "46f51900",
   "metadata": {
    "id": "46f51900"
   },
   "source": [
    "## DAILY TASK 1 - Come up with 2 examples for all the String Methods."
   ]
  },
  {
   "cell_type": "markdown",
   "id": "9af38205",
   "metadata": {
    "id": "9af38205"
   },
   "source": [
    "## ===================================================================="
   ]
  },
  {
   "cell_type": "markdown",
   "id": "893c6b30",
   "metadata": {
    "id": "893c6b30"
   },
   "source": [
    "## 2[d] Interact with user input"
   ]
  },
  {
   "cell_type": "code",
   "execution_count": null,
   "id": "43063d49",
   "metadata": {
    "id": "43063d49",
    "outputId": "5aed15fc-628b-4410-a9eb-1d23de7b0828"
   },
   "outputs": [
    {
     "name": "stdout",
     "output_type": "stream",
     "text": [
      "UserName:Dhanaxi\n",
      "Username starts with  D\n"
     ]
    }
   ],
   "source": [
    "user_input = input('UserName:')\n",
    "\n",
    "print('Username starts with ',user_input[0])"
   ]
  },
  {
   "cell_type": "markdown",
   "id": "3e713c6f",
   "metadata": {
    "id": "3e713c6f"
   },
   "source": [
    "## 2[e] Get 2 inputs from the user and print it."
   ]
  },
  {
   "cell_type": "code",
   "execution_count": null,
   "id": "5673bdf3",
   "metadata": {
    "id": "5673bdf3",
    "outputId": "06dc341f-fb65-4a42-dd18-e04c3a005ec4"
   },
   "outputs": [
    {
     "name": "stdout",
     "output_type": "stream",
     "text": [
      "enter fav heroSharuk\n",
      "your fav hero is  Sharuk\n",
      "enter fav number5\n",
      "your fav number is : 5\n"
     ]
    }
   ],
   "source": [
    "fav_hero = input('enter fav hero')\n",
    "print('your fav hero is ',fav_hero)\n",
    "\n",
    "fav_number = input('enter fav number')\n",
    "print('your fav number is :',fav_number)\n"
   ]
  },
  {
   "cell_type": "markdown",
   "id": "59a3f886",
   "metadata": {
    "id": "59a3f886"
   },
   "source": [
    "## 2[f] Streamline your Print Statement"
   ]
  },
  {
   "cell_type": "code",
   "execution_count": null,
   "id": "0fd342b3",
   "metadata": {
    "id": "0fd342b3",
    "outputId": "6bd2a03f-e0b5-44f0-da2f-6d7c50daca6e"
   },
   "outputs": [
    {
     "name": "stdout",
     "output_type": "stream",
     "text": [
      "enter fav heroAjith\n",
      "enter fav number654\n",
      "Favourite Hero : Ajith\n",
      " Favourite Number : 654\n"
     ]
    }
   ],
   "source": [
    "fav_hero = input('enter fav hero')\n",
    "fav_number = input('enter fav number')\n",
    "\n",
    "print('Favourite Hero : {}\\n Favourite Number : {}'.format(fav_hero,fav_number))"
   ]
  },
  {
   "cell_type": "markdown",
   "id": "e71df9bb",
   "metadata": {
    "id": "e71df9bb"
   },
   "source": [
    "## ===================================================================="
   ]
  },
  {
   "cell_type": "markdown",
   "id": "2c775e04",
   "metadata": {
    "id": "2c775e04"
   },
   "source": [
    "# Chapter 3 - Numbers in Python"
   ]
  },
  {
   "cell_type": "code",
   "execution_count": null,
   "id": "a4cdda16",
   "metadata": {
    "id": "a4cdda16",
    "outputId": "f2a2cfd0-ff1b-433a-87b0-323c30f58c35"
   },
   "outputs": [
    {
     "name": "stdout",
     "output_type": "stream",
     "text": [
      "Enter your marks : -100\n",
      "Scored Marks :  100\n"
     ]
    }
   ],
   "source": [
    "user_marks = int(input('Enter your marks : '))\n",
    "\n",
    "print('Scored Marks : ',abs(user_marks))"
   ]
  },
  {
   "cell_type": "code",
   "execution_count": null,
   "id": "ed6267fc",
   "metadata": {
    "id": "ed6267fc",
    "outputId": "0641132e-e108-4e8a-e4bb-727f42d7dda7"
   },
   "outputs": [
    {
     "data": {
      "text/plain": [
       "int"
      ]
     },
     "execution_count": 17,
     "metadata": {},
     "output_type": "execute_result"
    }
   ],
   "source": [
    "type(user_marks)"
   ]
  },
  {
   "cell_type": "markdown",
   "id": "18f8f5c1",
   "metadata": {
    "id": "18f8f5c1"
   },
   "source": [
    "## ===================================================================="
   ]
  },
  {
   "cell_type": "markdown",
   "id": "12979efd",
   "metadata": {
    "id": "12979efd"
   },
   "source": [
    "# Chapter 4 - Functions and loops\n",
    "\n",
    "**3types of functions in Python:**\n",
    "\n",
    "**1. Built-in Function/Predefined** - this function will get installed when we are Anaconda Navigotor.\n",
    "\n",
    "**2. User-defined Function** - User given function. Customizable.\n",
    "\n",
    "**3. Anonymous Function** - It is a nameless function used to accomplish one task at once."
   ]
  },
  {
   "cell_type": "markdown",
   "id": "7d56b3c6",
   "metadata": {
    "id": "7d56b3c6"
   },
   "source": [
    "## 4[a] Write your own functions"
   ]
  },
  {
   "cell_type": "code",
   "execution_count": null,
   "id": "8a42dd9b",
   "metadata": {
    "id": "8a42dd9b"
   },
   "outputs": [],
   "source": [
    "#Step1: Function Definition\n",
    "def get_details():\n",
    "    print('Hello, Welcome to the 1st function!!')   \n",
    "    print('Thankyou!!')"
   ]
  },
  {
   "cell_type": "code",
   "execution_count": null,
   "id": "9cb475ce",
   "metadata": {
    "id": "9cb475ce",
    "outputId": "2c1b0c49-eba9-4044-bcd6-fe17ce28eed2"
   },
   "outputs": [
    {
     "name": "stdout",
     "output_type": "stream",
     "text": [
      "Hello, Welcome to the 1st function!!\n",
      "Thankyou!!\n"
     ]
    }
   ],
   "source": [
    "#Step2: Call a function\n",
    "get_details()"
   ]
  },
  {
   "cell_type": "markdown",
   "id": "7aed230c",
   "metadata": {
    "id": "7aed230c"
   },
   "source": [
    "### Positional Arguments"
   ]
  },
  {
   "cell_type": "code",
   "execution_count": null,
   "id": "4c478f53",
   "metadata": {
    "id": "4c478f53"
   },
   "outputs": [],
   "source": [
    "def get_numbers(num1,num2):\n",
    "    print(\"Number 1: \",num1)\n",
    "    print(\"Number 2: \",num2)\n",
    "    print('Function Ended')\n",
    "    return num1*num2 #Termination point\n",
    "   "
   ]
  },
  {
   "cell_type": "code",
   "execution_count": null,
   "id": "9ca421f9",
   "metadata": {
    "id": "9ca421f9",
    "outputId": "709b1f6f-1417-4940-aca5-f0d964f22c53"
   },
   "outputs": [
    {
     "name": "stdout",
     "output_type": "stream",
     "text": [
      "Number 1:  23\n",
      "Number 2:  67\n",
      "Function Ended\n"
     ]
    },
    {
     "data": {
      "text/plain": [
       "1541"
      ]
     },
     "execution_count": 29,
     "metadata": {},
     "output_type": "execute_result"
    }
   ],
   "source": [
    "get_numbers(23,67)"
   ]
  },
  {
   "cell_type": "code",
   "execution_count": null,
   "id": "8f0b0cad",
   "metadata": {
    "id": "8f0b0cad"
   },
   "outputs": [],
   "source": [
    "def get_numbers(num1,num2): #Arguments\n",
    "    print(\"Number 1: \",num1)\n",
    "    print(\"Number 2: \",num2)\n",
    "    print(num1*num2)\n",
    "    return num1*num2 #Termination point"
   ]
  },
  {
   "cell_type": "code",
   "execution_count": null,
   "id": "e6b96f6c",
   "metadata": {
    "id": "e6b96f6c",
    "outputId": "8164c15d-0c6c-4d9d-fa9a-e85eabf8287b"
   },
   "outputs": [
    {
     "name": "stdout",
     "output_type": "stream",
     "text": [
      "Number 1:  23\n",
      "Number 2:  67\n",
      "1541\n"
     ]
    },
    {
     "data": {
      "text/plain": [
       "1541"
      ]
     },
     "execution_count": 31,
     "metadata": {},
     "output_type": "execute_result"
    }
   ],
   "source": [
    "get_numbers(23,67) #Parameters"
   ]
  },
  {
   "cell_type": "code",
   "execution_count": null,
   "id": "0e2cb749",
   "metadata": {
    "id": "0e2cb749"
   },
   "outputs": [],
   "source": [
    "def get_numbers(num1,num2):\n",
    "    print(\"Number 1: \",num1)\n",
    "    print(\"Number 2: \",num2)\n",
    "    return num1\n",
    "    return num1*num2 #Termination point"
   ]
  },
  {
   "cell_type": "code",
   "execution_count": null,
   "id": "0cb35707",
   "metadata": {
    "id": "0cb35707",
    "outputId": "c3775ce5-9a26-481f-dc8e-f1a9fef8a356"
   },
   "outputs": [
    {
     "name": "stdout",
     "output_type": "stream",
     "text": [
      "Number 1:  23\n",
      "Number 2:  67\n"
     ]
    },
    {
     "data": {
      "text/plain": [
       "23"
      ]
     },
     "execution_count": 33,
     "metadata": {},
     "output_type": "execute_result"
    }
   ],
   "source": [
    "get_numbers(23,67)"
   ]
  },
  {
   "cell_type": "code",
   "execution_count": null,
   "id": "24471d95",
   "metadata": {
    "id": "24471d95"
   },
   "outputs": [],
   "source": []
  },
  {
   "cell_type": "code",
   "execution_count": null,
   "id": "30aceebe",
   "metadata": {
    "id": "30aceebe"
   },
   "outputs": [],
   "source": [
    "def get_learner_details(learner_id,learner_name,age,company):\n",
    "    print('***************************************')\n",
    "    print('Learner ID   : ',learner_id)\n",
    "    print('Learner Name : ',learner_name)\n",
    "    print('Age          : ',age)\n",
    "    print('Workplace    : ',company)\n",
    "    print('***************************************')"
   ]
  },
  {
   "cell_type": "code",
   "execution_count": null,
   "id": "feb4eb1f",
   "metadata": {
    "id": "feb4eb1f",
    "outputId": "d090ab83-5e0d-40d9-a572-475b4362a870"
   },
   "outputs": [
    {
     "name": "stdout",
     "output_type": "stream",
     "text": [
      "***************************************\n",
      "Learner ID   :  1\n",
      "Learner Name :  Lavanya\n",
      "Age          :  25\n",
      "Workplace    :  Google\n",
      "***************************************\n"
     ]
    }
   ],
   "source": [
    "get_learner_details(1,'Lavanya',25,'Google')"
   ]
  },
  {
   "cell_type": "code",
   "execution_count": null,
   "id": "407a227b",
   "metadata": {
    "id": "407a227b",
    "outputId": "9f1aa606-4e6f-4a3f-b845-35816d14babb"
   },
   "outputs": [
    {
     "name": "stdout",
     "output_type": "stream",
     "text": [
      "***************************************\n",
      "Learner ID   :  2\n",
      "Learner Name :  Amit\n",
      "Age          :  27\n",
      "Workplace    :  Google\n",
      "***************************************\n"
     ]
    }
   ],
   "source": [
    "get_learner_details(2,'Amit',27,'Google')"
   ]
  },
  {
   "cell_type": "code",
   "execution_count": null,
   "id": "65851d1d",
   "metadata": {
    "id": "65851d1d",
    "outputId": "19edbf66-9d2d-4323-8626-ff3e2dea0c94"
   },
   "outputs": [
    {
     "name": "stdout",
     "output_type": "stream",
     "text": [
      "***************************************\n",
      "Learner ID   :  3\n",
      "Learner Name :  Bhagya\n",
      "Age          :  26\n",
      "Workplace    :  Google\n",
      "***************************************\n"
     ]
    }
   ],
   "source": [
    "get_learner_details(3,'Bhagya',26,'Google')"
   ]
  },
  {
   "cell_type": "markdown",
   "id": "124273f1",
   "metadata": {
    "id": "124273f1"
   },
   "source": [
    "### Default Parameter"
   ]
  },
  {
   "cell_type": "code",
   "execution_count": null,
   "id": "172252db",
   "metadata": {
    "id": "172252db"
   },
   "outputs": [],
   "source": [
    "def get_learner_details_2(learner_id,learner_name,age,company = 'Google'):\n",
    "    print('***************************************')\n",
    "    print('Learner ID   : ',learner_id)\n",
    "    print('Learner Name : ',learner_name)\n",
    "    print('Age          : ',age)\n",
    "    print('Workplace    : ',company)\n",
    "    print('***************************************')"
   ]
  },
  {
   "cell_type": "code",
   "execution_count": null,
   "id": "1f365e46",
   "metadata": {
    "id": "1f365e46",
    "outputId": "693a0d49-5beb-4a9b-9721-8031355ac732"
   },
   "outputs": [
    {
     "name": "stdout",
     "output_type": "stream",
     "text": [
      "***************************************\n",
      "Learner ID   :  1\n",
      "Learner Name :  Lavanya\n",
      "Age          :  25\n",
      "Workplace    :  Google\n",
      "***************************************\n"
     ]
    }
   ],
   "source": [
    "get_learner_details_2(1,'Lavanya',25)"
   ]
  },
  {
   "cell_type": "code",
   "execution_count": null,
   "id": "6a734578",
   "metadata": {
    "id": "6a734578",
    "outputId": "f85dd976-a4e0-4408-d545-ea97f090073e"
   },
   "outputs": [
    {
     "name": "stdout",
     "output_type": "stream",
     "text": [
      "***************************************\n",
      "Learner ID   :  2\n",
      "Learner Name :  Amit\n",
      "Age          :  27\n",
      "Workplace    :  Google\n",
      "***************************************\n"
     ]
    }
   ],
   "source": [
    "get_learner_details_2(2,'Amit',27)"
   ]
  },
  {
   "cell_type": "code",
   "execution_count": null,
   "id": "c02baa98",
   "metadata": {
    "id": "c02baa98",
    "outputId": "7d5e0848-175e-4780-842e-3007be6156a5"
   },
   "outputs": [
    {
     "name": "stdout",
     "output_type": "stream",
     "text": [
      "***************************************\n",
      "Learner ID   :  3\n",
      "Learner Name :  Bhagya\n",
      "Age          :  26\n",
      "Workplace    :  Microsoft\n",
      "***************************************\n"
     ]
    }
   ],
   "source": [
    "get_learner_details(3,'Bhagya',26,'Microsoft')"
   ]
  },
  {
   "cell_type": "markdown",
   "id": "52e0b365",
   "metadata": {
    "id": "52e0b365"
   },
   "source": [
    "### Variable-Length Argument"
   ]
  },
  {
   "cell_type": "code",
   "execution_count": null,
   "id": "480c5aaf",
   "metadata": {
    "id": "480c5aaf"
   },
   "outputs": [],
   "source": [
    "def get_learner_details_3(learner_id,learner_name,age,*company):\n",
    "    print('***************************************')\n",
    "    print('Learner ID   : ',learner_id)\n",
    "    print('Learner Name : ',learner_name)\n",
    "    print('Age          : ',age)\n",
    "    print('Workplace    : ',company)\n",
    "    print('***************************************')"
   ]
  },
  {
   "cell_type": "code",
   "execution_count": null,
   "id": "576bee77",
   "metadata": {
    "id": "576bee77",
    "outputId": "46c20533-e453-4152-f8d8-75512ca5eb36"
   },
   "outputs": [
    {
     "name": "stdout",
     "output_type": "stream",
     "text": [
      "***************************************\n",
      "Learner ID   :  1\n",
      "Learner Name :  Lavanya\n",
      "Age          :  25\n",
      "Workplace    :  ('Google', 'IBM', 'Microsoft')\n",
      "***************************************\n"
     ]
    }
   ],
   "source": [
    "get_learner_details_3(1,'Lavanya',25,'Google','IBM','Microsoft')"
   ]
  },
  {
   "cell_type": "markdown",
   "id": "fd46e315",
   "metadata": {
    "id": "fd46e315"
   },
   "source": [
    "### Keyword-Argument"
   ]
  },
  {
   "cell_type": "code",
   "execution_count": null,
   "id": "0263fbe0",
   "metadata": {
    "id": "0263fbe0"
   },
   "outputs": [],
   "source": [
    "def get_learner_details_4(learner_id,learner_name,age,**company):\n",
    "    print('***************************************')\n",
    "    print('Learner ID   : ',learner_id)\n",
    "    print('Learner Name : ',learner_name)\n",
    "    print('Age          : ',age)\n",
    "    print('Workplace    : ',company)\n",
    "    print('***************************************')"
   ]
  },
  {
   "cell_type": "code",
   "execution_count": null,
   "id": "e72fab3b",
   "metadata": {
    "id": "e72fab3b",
    "outputId": "b4a09178-d210-43b2-8314-b3087d5e187b"
   },
   "outputs": [
    {
     "name": "stdout",
     "output_type": "stream",
     "text": [
      "***************************************\n",
      "Learner ID   :  1\n",
      "Learner Name :  Lavanya\n",
      "Age          :  25\n",
      "Workplace    :  {'company_1': 'Google', 'company_2': 'IBM', 'company_3': 'Microsoft'}\n",
      "***************************************\n"
     ]
    }
   ],
   "source": [
    "get_learner_details_4(1,'Lavanya',25,company_1 = 'Google',company_2 = 'IBM',company_3 = 'Microsoft')"
   ]
  },
  {
   "cell_type": "markdown",
   "id": "3c7bdaab",
   "metadata": {
    "id": "3c7bdaab"
   },
   "source": [
    "### Variable-length and Keyword Argument"
   ]
  },
  {
   "cell_type": "code",
   "execution_count": null,
   "id": "77502936",
   "metadata": {
    "id": "77502936"
   },
   "outputs": [],
   "source": [
    "def get_learner_details_5(learner_id,age,*learner_name,**company):\n",
    "    print('***************************************')\n",
    "    print('Learner ID   : ',learner_id)\n",
    "    print('Learner Name : ',learner_name)\n",
    "    print('Age          : ',age)\n",
    "    print('Workplace    : ',company)\n",
    "    print('***************************************')"
   ]
  },
  {
   "cell_type": "code",
   "execution_count": null,
   "id": "b6f4b81c",
   "metadata": {
    "id": "b6f4b81c",
    "outputId": "c5780805-defd-4f61-c262-8380e46a0e75"
   },
   "outputs": [
    {
     "name": "stdout",
     "output_type": "stream",
     "text": [
      "***************************************\n",
      "Learner ID   :  1\n",
      "Learner Name :  ('Lavanya', 'Divya', 'Shashank')\n",
      "Age          :  25\n",
      "Workplace    :  {'company_1': 'Google', 'company_2': 'IBM', 'company_3': 'Microsoft'}\n",
      "***************************************\n"
     ]
    }
   ],
   "source": [
    "get_learner_details_5(1,25,'Lavanya','Divya','Shashank',company_1 = 'Google',company_2 = 'IBM',company_3 = 'Microsoft')"
   ]
  },
  {
   "cell_type": "markdown",
   "id": "b73b9057",
   "metadata": {
    "id": "b73b9057"
   },
   "source": [
    "## 4[b] Run in circles"
   ]
  },
  {
   "cell_type": "code",
   "execution_count": null,
   "id": "75732c05",
   "metadata": {
    "id": "75732c05",
    "outputId": "bc63057b-fc5f-4d10-dd60-c7ecb521c42f"
   },
   "outputs": [
    {
     "name": "stdout",
     "output_type": "stream",
     "text": [
      "2\n",
      "4\n",
      "6\n",
      "8\n",
      "10\n",
      "12\n",
      "14\n",
      "16\n",
      "18\n",
      "20\n"
     ]
    }
   ],
   "source": [
    "for i in range(2,21,2):\n",
    "    print(i)"
   ]
  },
  {
   "cell_type": "markdown",
   "id": "2a1364a2",
   "metadata": {
    "id": "2a1364a2"
   },
   "source": [
    "## ===================================================================="
   ]
  }
 ],
 "metadata": {
  "colab": {
   "name": "Copy of Python_Programming.ipynb",
   "provenance": [
    {
     "file_id": "1U_TFAmj5ZMbPHb1yhLRLjh_jNLyAkA27",
     "timestamp": 1639727897532
    }
   ]
  },
  "kernelspec": {
   "display_name": "Python 3 (ipykernel)",
   "language": "python",
   "name": "python3"
  },
  "language_info": {
   "codemirror_mode": {
    "name": "ipython",
    "version": 3
   },
   "file_extension": ".py",
   "mimetype": "text/x-python",
   "name": "python",
   "nbconvert_exporter": "python",
   "pygments_lexer": "ipython3",
   "version": "3.9.7"
  }
 },
 "nbformat": 4,
 "nbformat_minor": 5
}
